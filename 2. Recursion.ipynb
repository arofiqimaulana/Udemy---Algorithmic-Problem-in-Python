{
 "cells": [
  {
   "cell_type": "markdown",
   "metadata": {},
   "source": [
    "# Recursion\n",
    "is a method (procedure) where the solution to a problem depends on solutions to smaller instances of the same problem.\n",
    "\n",
    "There are two type of recursion :\n",
    "1. Head Recursion\n",
    "2. Tail Recursion"
   ]
  },
  {
   "cell_type": "markdown",
   "metadata": {},
   "source": [
    "# Recursion vs Iteration\n",
    "1. Recursive stack frames are totally independent of each other\n",
    "2. Every recursive function call get its own stack frame. Every stack frame has its own local variable isolated from each other.\n",
    "3. Recursive call cannot change the values of variable\n",
    "4. Iteration can change the values (we can update or remove values in array for example)"
   ]
  },
  {
   "cell_type": "markdown",
   "metadata": {},
   "source": [
    "# Tail vs Head Recursion\n",
    "1. Tail is memory effisien, Head is not memory effisien.\n",
    "2. Tail recursion is similar to Iteration\n",
    "3. Head recursion use stack memory and backtrack until the base case reached (stack)"
   ]
  },
  {
   "cell_type": "markdown",
   "metadata": {},
   "source": [
    "# Simple Case"
   ]
  },
  {
   "cell_type": "code",
   "execution_count": 7,
   "metadata": {},
   "outputs": [],
   "source": [
    "def tail(n):\n",
    "    if n==0:\n",
    "        return n\n",
    "    \n",
    "    print(n)\n",
    "    tail(n-1)"
   ]
  },
  {
   "cell_type": "code",
   "execution_count": 8,
   "metadata": {},
   "outputs": [
    {
     "name": "stdout",
     "output_type": "stream",
     "text": [
      "4\n",
      "3\n",
      "2\n",
      "1\n"
     ]
    }
   ],
   "source": [
    "tail(4)"
   ]
  },
  {
   "cell_type": "code",
   "execution_count": 9,
   "metadata": {},
   "outputs": [],
   "source": [
    "def head(n):\n",
    "    if n==0:\n",
    "        return n\n",
    "    \n",
    "    head(n-1)\n",
    "    print(n)"
   ]
  },
  {
   "cell_type": "code",
   "execution_count": 10,
   "metadata": {},
   "outputs": [
    {
     "name": "stdout",
     "output_type": "stream",
     "text": [
      "1\n",
      "2\n",
      "3\n",
      "4\n"
     ]
    }
   ],
   "source": [
    "head(4)"
   ]
  },
  {
   "cell_type": "markdown",
   "metadata": {},
   "source": [
    "# Factorial Case\n",
    "In mathematics, the factorial of a positive integer n, denoted by n!, is the product of all positive integers less than or equal to n:\n",
    "- n! = n(n-1)(n-2)...3(2)1"
   ]
  },
  {
   "cell_type": "markdown",
   "metadata": {},
   "source": [
    "<img src=\"images/backtrack.png\"/>"
   ]
  },
  {
   "cell_type": "code",
   "execution_count": 52,
   "metadata": {},
   "outputs": [],
   "source": [
    "# Calculate Factorial using head recursion\n",
    "def factorial_head_v1(n):\n",
    "    if n==1:\n",
    "        return 1\n",
    "    else:\n",
    "        return n*factorial(n-1)\n",
    "\n",
    "# if n == 4\n",
    "# factorial(4) = 4*factorial(4-1) = 4*factorial(3)\n",
    "# 4*factorial(3) = 4*3*factorial(3-1) = 12*factorial(2)\n",
    "# 12*factorial(2) = 12*2*factorial(2-1) = 24*factorial(1)\n",
    "# 24*1 = 24"
   ]
  },
  {
   "cell_type": "code",
   "execution_count": 53,
   "metadata": {},
   "outputs": [],
   "source": [
    "# Calculate Factorial using head recursion\n",
    "def factorial_head_v2(n):\n",
    "    \n",
    "    subresult = factorial(n-1)\n",
    "    \n",
    "    if n==1:\n",
    "        return 1\n",
    "    else:\n",
    "        return n*subresult\n",
    "\n",
    "# if n == 4\n",
    "# factorialv2(4) = 4*subresult = 4*factorial(4-1) = 4*factorial(3)\n",
    "# 4*factorial(3) = 4*3*subresult = 4*3*factorial(3-1) = 12*factorial(2)\n",
    "# 12*factorial(2) = 12*subresult = 12*2*factorial(2-1) = 24* factorial(1) = 24*1 = 24"
   ]
  },
  {
   "cell_type": "code",
   "execution_count": 54,
   "metadata": {},
   "outputs": [
    {
     "name": "stdout",
     "output_type": "stream",
     "text": [
      "24\n",
      "24\n"
     ]
    }
   ],
   "source": [
    "print(factorial_head_v1(4))\n",
    "print(factorial_head_v2(4))"
   ]
  },
  {
   "cell_type": "code",
   "execution_count": 55,
   "metadata": {},
   "outputs": [],
   "source": [
    "# # Calculate Factorial using head recursion\n",
    "# python assign accumulator=1 automatically if we dont set\n",
    "def factorial_accumulator(n,accumulator=1):\n",
    "    if n==1:\n",
    "        return accumulator\n",
    "    else:\n",
    "        return factorial_accumulator(n-1,n*accumulator)\n",
    "\n",
    "# if n==4 then -> factorial_accumulator(4,1)\n",
    "# factorial_accumulator(3,4*1) = factorial_accumulator(3,4)\n",
    "# factorial_accumulator(3,4) = factorial_accumulator(2,4*3) = factorial_accumulator(2,12)\n",
    "# factorial_accumulator(2,12) = factorial_accumulator(1,2*12) = factorial_accumulator(1,24) = 24"
   ]
  },
  {
   "cell_type": "code",
   "execution_count": 57,
   "metadata": {},
   "outputs": [
    {
     "name": "stdout",
     "output_type": "stream",
     "text": [
      "4\n",
      "24\n",
      "24\n",
      "72\n"
     ]
    }
   ],
   "source": [
    "print(factorial_accumulator(1,4))\n",
    "print(factorial_accumulator(4))\n",
    "print(factorial_accumulator(4,1))\n",
    "print(factorial_accumulator(4,3))"
   ]
  },
  {
   "cell_type": "markdown",
   "metadata": {},
   "source": [
    "# Fibonacci Case\n",
    "is form a sequence, called the Fibonacci sequence, such that each number is the sum of the two preceding ones, starting from 0 and 1.\n",
    "\n",
    "seq = 1,1,2,3,5,8,13,..."
   ]
  },
  {
   "cell_type": "code",
   "execution_count": 61,
   "metadata": {},
   "outputs": [],
   "source": [
    "def fibonacci_head_v1(n):\n",
    "    if n==0 : return 0\n",
    "    if n==1 : return 1\n",
    "    \n",
    "    return fibonacci_head_v1(n-1) + fibonacci_head_v1(n-2)\n",
    "\n",
    "# if n == 4\n",
    "# fibonacci_head_v1(4) = (fibonacci_head_v1(3)+fibonacci_head_v1(2))\n",
    "# (fibonacci_head_v1(2) + fibonacci_head_v1(1) + fibonacci_head_v1(1) + fibonacci_head_v1(0))\n",
    "# (fibonacci_head_v1(1) + fibonacci_head_v1(0) + 1 + 1 + 0)\n",
    "# (1+0+1+1+0) = 3"
   ]
  },
  {
   "cell_type": "code",
   "execution_count": 67,
   "metadata": {},
   "outputs": [],
   "source": [
    "def fibonacci_head_v2(n):\n",
    "    if n==0 : return 0\n",
    "    if n==1 : return 1\n",
    "    \n",
    "    fib1 = fibonacci_head_v1(n-1)\n",
    "    fib2 = fibonacci_head_v1(n-2)\n",
    "    \n",
    "    return fib1 + fib2\n",
    "\n",
    "# if n==4\n",
    "# fibonacci_head_v2(4) = fib1+fib2 =  fibonacci_head_v1(3) + fibonacci_head_v1(2)\n",
    "# (fibonacci_head_v1(2) + fibonacci_head_v1(1) + fibonacci_head_v1(1) + fibonacci_head_v1(0))\n",
    "# (fibonacci_head_v1(1) + fibonacci_head_v1(0) + 1 + 1 + 0)\n",
    "# (1+0+1+1+0) = 3"
   ]
  },
  {
   "cell_type": "code",
   "execution_count": 65,
   "metadata": {},
   "outputs": [
    {
     "data": {
      "text/plain": [
       "144"
      ]
     },
     "execution_count": 65,
     "metadata": {},
     "output_type": "execute_result"
    }
   ],
   "source": [
    "fibonacci_head_v1(12)"
   ]
  },
  {
   "cell_type": "code",
   "execution_count": 66,
   "metadata": {},
   "outputs": [
    {
     "data": {
      "text/plain": [
       "144"
      ]
     },
     "execution_count": 66,
     "metadata": {},
     "output_type": "execute_result"
    }
   ],
   "source": [
    "fibonacci_head_v2(12)"
   ]
  },
  {
   "cell_type": "markdown",
   "metadata": {},
   "source": [
    "# Tower of Hanoi Problem\n",
    "- It consists of three rods and number of disks of different sizes which can slide onto any rod  \n",
    "- The puzzle start with the disks in a neat stack in ascending order of size of the rod, the smallest at the top, thus making a conical shape\n",
    "- The minimum number of moves required to solve a Tower Hanoi Problem is 2^n -1 //O(2^n) Exponential Time Complexity\n",
    "- We have some rules\n",
    "    1. Only one disk can be moved at time \n",
    "    2. Each move consist of taking the upper disk from one of the stacks and placing it top of another stack -> a disk can only be moved if it is the uppermost disk on a stack\n",
    "    3. No disk may be placed on top of smaller disk"
   ]
  },
  {
   "cell_type": "markdown",
   "metadata": {},
   "source": [
    "<img src=\"images/state0.png\"/>\n",
    "<img src=\"images/state1th.png\"/>\n",
    "<img src=\"images/BaseCase.png\"/>\n",
    "<img src=\"images/stateexpected.png\"/>"
   ]
  },
  {
   "cell_type": "code",
   "execution_count": 68,
   "metadata": {},
   "outputs": [],
   "source": [
    "# n refers to disk number\n",
    "def hanoi(n,rod_from,rod_middle,rod_to):\n",
    "    if n==1:\n",
    "        print(\"Plate 1 from %s to %s\"%(rod_from,rod_to))\n",
    "        return\n",
    "    # moving n-1 plates off the largest one to be able to move that\n",
    "    hanoi(n-1,rod_from,rod_to,rod_middle)\n",
    "    # moving the actual largest one\n",
    "    print(\"Plate %s to %s from %s\"%(n,rod_from,rod_to))\n",
    "    # placing n-1 plates on the top of the largest one\n",
    "    hanoi (n-1,rod_middle,rod_from,rod_to)\n",
    "\n",
    "    "
   ]
  },
  {
   "cell_type": "code",
   "execution_count": 69,
   "metadata": {},
   "outputs": [
    {
     "name": "stdout",
     "output_type": "stream",
     "text": [
      "Plate 1 from A to C\n",
      "Plate 2 to A from B\n",
      "Plate 1 from C to B\n",
      "Plate 3 to A from C\n",
      "Plate 1 from B to A\n",
      "Plate 2 to B from C\n",
      "Plate 1 from A to C\n"
     ]
    }
   ],
   "source": [
    "hanoi(3,'A','B','C')"
   ]
  },
  {
   "cell_type": "code",
   "execution_count": null,
   "metadata": {},
   "outputs": [],
   "source": []
  }
 ],
 "metadata": {
  "kernelspec": {
   "display_name": "Python 3",
   "language": "python",
   "name": "python3"
  },
  "language_info": {
   "codemirror_mode": {
    "name": "ipython",
    "version": 3
   },
   "file_extension": ".py",
   "mimetype": "text/x-python",
   "name": "python",
   "nbconvert_exporter": "python",
   "pygments_lexer": "ipython3",
   "version": "3.7.6"
  }
 },
 "nbformat": 4,
 "nbformat_minor": 4
}
