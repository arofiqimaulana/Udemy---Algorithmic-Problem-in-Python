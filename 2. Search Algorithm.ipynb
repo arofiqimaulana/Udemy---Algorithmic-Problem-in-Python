{
 "cells": [
  {
   "cell_type": "markdown",
   "metadata": {},
   "source": [
    "# Search Algorithm\n",
    "\n",
    "- if we want to find a given in an unsorted array: we have no other options but to consider all items one by one (with **O(N)** linear running time complexity) this is called *Linear Search*.\n",
    "\n",
    "- Can We do better ? Actually if the array is sorted then we can use binary search and reduce the running time complexity **O(logN)** this called binary search.\n",
    "\n"
   ]
  },
  {
   "cell_type": "markdown",
   "metadata": {},
   "source": [
    "# Linear Search"
   ]
  },
  {
   "cell_type": "code",
   "execution_count": 1,
   "metadata": {},
   "outputs": [],
   "source": [
    "def linear_search(array,item):\n",
    "    for k in range(len(array)):\n",
    "        if array[k]==item:\n",
    "            return k\n",
    "    return -1"
   ]
  },
  {
   "cell_type": "code",
   "execution_count": 2,
   "metadata": {},
   "outputs": [
    {
     "data": {
      "text/plain": [
       "-1"
      ]
     },
     "execution_count": 2,
     "metadata": {},
     "output_type": "execute_result"
    }
   ],
   "source": [
    "linear_search([1,10,5,7,3,5],4)"
   ]
  },
  {
   "cell_type": "code",
   "execution_count": 3,
   "metadata": {},
   "outputs": [
    {
     "data": {
      "text/plain": [
       "4"
      ]
     },
     "execution_count": 3,
     "metadata": {},
     "output_type": "execute_result"
    }
   ],
   "source": [
    "linear_search([1,10,5,7,3,5],3)"
   ]
  },
  {
   "cell_type": "markdown",
   "metadata": {},
   "source": [
    "# Binary Search\n",
    "Array must be sorted if we want to use this. Binary search faster than linear search because in binary search we search only sub array not whole array."
   ]
  },
  {
   "cell_type": "code",
   "execution_count": 93,
   "metadata": {},
   "outputs": [],
   "source": [
    "def binary_search(array,item,left,right):\n",
    "    \n",
    "    # if data out of range\n",
    "    if right < left :\n",
    "        return -1\n",
    "        \n",
    "    middle = left + (right-left)//2\n",
    "    print(\"middle index :\",middle)\n",
    "\n",
    "    if array[middle] == item:\n",
    "        return middle\n",
    "\n",
    "    elif array[middle] > item:\n",
    "        print(\"Checking item on the left :\")\n",
    "        return binary_search(array,item,left,middle-1)\n",
    "\n",
    "    elif array[middle] <= item:\n",
    "        print(\"Checking item on the right :\")\n",
    "        return binary_search(array,item,middle+1,right)"
   ]
  },
  {
   "cell_type": "code",
   "execution_count": 94,
   "metadata": {},
   "outputs": [],
   "source": [
    "array = [1,3,4,5]"
   ]
  },
  {
   "cell_type": "code",
   "execution_count": 96,
   "metadata": {},
   "outputs": [
    {
     "name": "stdout",
     "output_type": "stream",
     "text": [
      "middle index : 1\n",
      "Checking item on the right :\n",
      "middle index : 2\n",
      "Checking item on the right :\n",
      "middle index : 3\n",
      "Checking item on the right :\n"
     ]
    },
    {
     "data": {
      "text/plain": [
       "-1"
      ]
     },
     "execution_count": 96,
     "metadata": {},
     "output_type": "execute_result"
    }
   ],
   "source": [
    "binary_search(array,40,0,len(array)-1)"
   ]
  },
  {
   "cell_type": "code",
   "execution_count": 97,
   "metadata": {},
   "outputs": [
    {
     "name": "stdout",
     "output_type": "stream",
     "text": [
      "middle index : 1\n",
      "Checking item on the right :\n",
      "middle index : 2\n"
     ]
    },
    {
     "data": {
      "text/plain": [
       "2"
      ]
     },
     "execution_count": 97,
     "metadata": {},
     "output_type": "execute_result"
    }
   ],
   "source": [
    "binary_search(array,4,0,len(array)-1)"
   ]
  },
  {
   "cell_type": "markdown",
   "metadata": {},
   "source": [
    "# Pros and Cons\n",
    "1. Untuk perlu menggunakan binary search, array perlu di sorted\n",
    "2. Source code linear search lebih simple dibandingkan dengan binary search\n",
    "3. Complexity linear search lebih tinggi dibandingkan denga binary search"
   ]
  },
  {
   "cell_type": "code",
   "execution_count": null,
   "metadata": {},
   "outputs": [],
   "source": []
  }
 ],
 "metadata": {
  "kernelspec": {
   "display_name": "Python 3",
   "language": "python",
   "name": "python3"
  },
  "language_info": {
   "codemirror_mode": {
    "name": "ipython",
    "version": 3
   },
   "file_extension": ".py",
   "mimetype": "text/x-python",
   "name": "python",
   "nbconvert_exporter": "python",
   "pygments_lexer": "ipython3",
   "version": "3.7.6"
  }
 },
 "nbformat": 4,
 "nbformat_minor": 4
}
